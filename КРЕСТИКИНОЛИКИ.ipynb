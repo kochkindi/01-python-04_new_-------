{
 "cells": [
  {
   "cell_type": "markdown",
   "metadata": {},
   "source": [
    "                1 пункт. Вывод на экран игрового поля (Возможно формат отличается от шаблона, указанного в задании). Вводиться будут цифры, которые соответствуют своей позиции, как на NumPad панели на клавиатуре (1-9 снизу-вверх):"
   ]
  },
  {
   "cell_type": "code",
   "execution_count": 19,
   "metadata": {},
   "outputs": [],
   "source": [
    "theBoard = [' '] * 10\n",
    "def display_board(theBoard):\n",
    "    \n",
    "    print(' ' + theBoard[7] + ' | ' + theBoard[8] + ' | ' + theBoard[9])\n",
    "    print('-----------')\n",
    "    print(' ' + theBoard[4] + ' | ' + theBoard[5] + ' | ' + theBoard[6])\n",
    "    print('-----------')\n",
    "    print(' ' + theBoard[1] + ' | ' + theBoard[2] + ' | ' + theBoard[3])\n",
    "    \n"
   ]
  },
  {
   "cell_type": "markdown",
   "metadata": {},
   "source": [
    "                2 пункт. Спрашиваем пользователя, как он хочет сходить. Пользователь может ввести и не Х, и не O (заглавная буква О), поэтому будем продолжать спрашивать его с помощью цикла. Так же учтем, что пользователь может ввести маленький символ. Возвращаем кортеж с поочередностью символов в зависимости от введенного знака пользователя. "
   ]
  },
  {
   "cell_type": "code",
   "execution_count": 20,
   "metadata": {},
   "outputs": [
    {
     "name": "stdout",
     "output_type": "stream",
     "text": [
      "Игрок 1: Кем Вы хотите играть, X или O? X\n"
     ]
    },
    {
     "data": {
      "text/plain": [
       "('X', 'O')"
      ]
     },
     "execution_count": 20,
     "metadata": {},
     "output_type": "execute_result"
    }
   ],
   "source": [
    "def player_input():\n",
    "    marker = ''\n",
    "    \n",
    "    while not (marker == 'X' or marker == 'O'):\n",
    "        marker = input('Игрок 1: Кем Вы хотите играть, X или O? ').upper()\n",
    "\n",
    "    if marker == 'X':\n",
    "        return ('X', 'O')\n",
    "    else:\n",
    "        return ('O', 'X')\n",
    "player_input()"
   ]
  },
  {
   "cell_type": "markdown",
   "metadata": {},
   "source": [
    "                   3 пункт. Пользователь должен обозначить, какую позицию он хочет занять. "
   ]
  },
  {
   "cell_type": "code",
   "execution_count": 21,
   "metadata": {},
   "outputs": [],
   "source": [
    "def place_marker(theBoard, marker, position):\n",
    "    theBoard[position] = marker"
   ]
  },
  {
   "cell_type": "markdown",
   "metadata": {},
   "source": [
    "                   4 пункт. Уточним, выиграл ли пользователь. (По всем правилам)"
   ]
  },
  {
   "cell_type": "code",
   "execution_count": 22,
   "metadata": {},
   "outputs": [],
   "source": [
    "def win_check(theBoard,mark):\n",
    "    \n",
    "    return ((theBoard[7] == mark and theBoard[8] == mark and theBoard[9] == mark) or # горизонталь сверху\n",
    "    (theBoard[4] == mark and theBoard[5] == mark and theBoard[6] == mark) or # горизонталь в середине\n",
    "    (theBoard[1] == mark and theBoard[2] == mark and theBoard[3] == mark) or # горизонталь снизу\n",
    "    (theBoard[7] == mark and theBoard[4] == mark and theBoard[1] == mark) or # вертикаль слева\n",
    "    (theBoard[8] == mark and theBoard[5] == mark and theBoard[2] == mark) or # вертикаль в середине\n",
    "    (theBoard[9] == mark and theBoard[6] == mark and theBoard[3] == mark) or # вертикаль справа\n",
    "    (theBoard[7] == mark and theBoard[5] == mark and theBoard[3] == mark) or # диагональ\n",
    "    (theBoard[9] == mark and theBoard[5] == mark and theBoard[1] == mark)) # диагональ"
   ]
  },
  {
   "cell_type": "markdown",
   "metadata": {},
   "source": [
    "                                     5 пункт. Решим, кто ходит первым."
   ]
  },
  {
   "cell_type": "code",
   "execution_count": 23,
   "metadata": {},
   "outputs": [
    {
     "name": "stdout",
     "output_type": "stream",
     "text": [
      "O\n"
     ]
    },
    {
     "data": {
      "text/plain": [
       "'Игрок 2'"
      ]
     },
     "execution_count": 23,
     "metadata": {},
     "output_type": "execute_result"
    }
   ],
   "source": [
    "def choose_first():\n",
    "    if input() == 'O':\n",
    "        return 'Игрок 2'\n",
    "    else:\n",
    "        return 'Игрок 1'\n",
    "choose_first()\n"
   ]
  },
  {
   "cell_type": "markdown",
   "metadata": {},
   "source": [
    "                6 пункт. Выведем True or False в зависимости от того, занята ли клетка на поле."
   ]
  },
  {
   "cell_type": "code",
   "execution_count": 24,
   "metadata": {},
   "outputs": [],
   "source": [
    "def space_check(theBoard, position):\n",
    "    \n",
    "    return theBoard[position] == ' '"
   ]
  },
  {
   "cell_type": "markdown",
   "metadata": {},
   "source": [
    "                             7 пункт. Проверяем заполнено ли игровое поле."
   ]
  },
  {
   "cell_type": "code",
   "execution_count": 25,
   "metadata": {},
   "outputs": [],
   "source": [
    "def full_board_check(theBoard):\n",
    "    for i in range(1,10):\n",
    "        if space_check(theBoard, i):\n",
    "            return False\n",
    "    return True"
   ]
  },
  {
   "cell_type": "markdown",
   "metadata": {},
   "source": [
    "                    8 пункт. Запрашиваем у игрока следующую позицию (как число 1-9), и затем используем функцию с шага 6 чтобы проверить, является ли эта позиция пустой. Если да, то возвращает эту позицию для дальнейшего использования."
   ]
  },
  {
   "cell_type": "code",
   "execution_count": 26,
   "metadata": {},
   "outputs": [],
   "source": [
    "def player_choice(theBoard):\n",
    "    position = 0\n",
    "    \n",
    "    while position not in [1,2,3,4,5,6,7,8,9] or not space_check(board, position):\n",
    "        position = int(input('Выберите следующую клетку: '))\n",
    "        \n",
    "    return position"
   ]
  },
  {
   "cell_type": "markdown",
   "metadata": {},
   "source": [
    "                       9 пункт. Спросим у игрока, хочет ли он сыграть снова."
   ]
  },
  {
   "cell_type": "code",
   "execution_count": 27,
   "metadata": {},
   "outputs": [],
   "source": [
    "def replay():\n",
    "    \n",
    "    return input('Вы хотите сыграть снова? Yes или No: ').lower().startswith('Yes')"
   ]
  },
  {
   "cell_type": "markdown",
   "metadata": {},
   "source": [
    "                        Итог: совмещение всех пунктов плюс цикл While. Этот блок для проверки задания."
   ]
  },
  {
   "cell_type": "code",
   "execution_count": 4,
   "metadata": {},
   "outputs": [
    {
     "name": "stdout",
     "output_type": "stream",
     "text": [
      "Игрок 1: Кем Вы хотите играть, X или O? X\n",
      "Кто ходит первым? О или Х?O\n",
      "Первым ходит Игрок 2.\n",
      "Вы готовы играть? Введите Yes или No.Yes\n",
      "   |   |  \n",
      "-----------\n",
      "   |   |  \n",
      "-----------\n",
      "   |   |  \n",
      "Выберите следующую клетку: 2\n",
      "   |   |  \n",
      "-----------\n",
      "   |   |  \n",
      "-----------\n",
      "   | O |  \n",
      "Выберите следующую клетку: 5\n",
      "   |   |  \n",
      "-----------\n",
      "   | X |  \n",
      "-----------\n",
      "   | O |  \n",
      "Выберите следующую клетку: 1\n",
      "   |   |  \n",
      "-----------\n",
      "   | X |  \n",
      "-----------\n",
      " O | O |  \n",
      "Выберите следующую клетку: 3\n",
      "   |   |  \n",
      "-----------\n",
      "   | X |  \n",
      "-----------\n",
      " O | O | X\n",
      "Выберите следующую клетку: 4\n",
      "   |   |  \n",
      "-----------\n",
      " O | X |  \n",
      "-----------\n",
      " O | O | X\n",
      "Выберите следующую клетку: 5\n",
      "Выберите следующую клетку: 6\n",
      "   |   |  \n",
      "-----------\n",
      " O | X | X\n",
      "-----------\n",
      " O | O | X\n",
      "Выберите следующую клетку: 9\n",
      "   |   | O\n",
      "-----------\n",
      " O | X | X\n",
      "-----------\n",
      " O | O | X\n",
      "Выберите следующую клетку: 8\n",
      "   | X | O\n",
      "-----------\n",
      " O | X | X\n",
      "-----------\n",
      " O | O | X\n",
      "Выберите следующую клетку: 7\n",
      " O | X | O\n",
      "-----------\n",
      " O | X | X\n",
      "-----------\n",
      " O | O | X\n",
      "Игрок 2 выиграл!\n",
      "Вы хотите сыграть снова? Yes или No: No\n"
     ]
    }
   ],
   "source": [
    "#Описание всех используемых функций.\n",
    "def display_board(theBoard):\n",
    "    print(' ' + theBoard[7] + ' | ' + theBoard[8] + ' | ' + theBoard[9])\n",
    "    print('-----------')\n",
    "    print(' ' + theBoard[4] + ' | ' + theBoard[5] + ' | ' + theBoard[6])\n",
    "    print('-----------')\n",
    "    print(' ' + theBoard[1] + ' | ' + theBoard[2] + ' | ' + theBoard[3])\n",
    "    \n",
    "def player_input():\n",
    "    marker = ''\n",
    "    while not (marker == 'X' or marker == 'O'):\n",
    "        marker = input('Игрок 1: Кем Вы хотите играть, X или O? ').upper()\n",
    "\n",
    "    if marker == 'X':\n",
    "        return ('X', 'O')\n",
    "    else:\n",
    "        return ('O', 'X')\n",
    "\n",
    "\n",
    "def place_marker(theBoard, marker, position):\n",
    "    theBoard[position] = marker\n",
    "\n",
    "def win_check(theBoard,mark):\n",
    "    \n",
    "    return ((theBoard[7] == mark and theBoard[8] == mark and theBoard[9] == mark) or # горизонталь сверху\n",
    "    (theBoard[4] == mark and theBoard[5] == mark and theBoard[6] == mark) or # горизонталь в середине\n",
    "    (theBoard[1] == mark and theBoard[2] == mark and theBoard[3] == mark) or # горизонталь снизу\n",
    "    (theBoard[7] == mark and theBoard[4] == mark and theBoard[1] == mark) or # вертикаль слева\n",
    "    (theBoard[8] == mark and theBoard[5] == mark and theBoard[2] == mark) or # вертикаль в середине\n",
    "    (theBoard[9] == mark and theBoard[6] == mark and theBoard[3] == mark) or # вертикаль справа\n",
    "    (theBoard[7] == mark and theBoard[5] == mark and theBoard[3] == mark) or # диагональ\n",
    "    (theBoard[9] == mark and theBoard[5] == mark and theBoard[1] == mark)) # диагональ\n",
    "\n",
    "def choose_first():\n",
    "    if  input('Кто ходит первым? О или Х?')== 'O':\n",
    "        return 'Игрок 2'\n",
    "    else:\n",
    "        return 'Игрок 1'\n",
    "\n",
    "def space_check(theBoard, position):\n",
    "    return theBoard[position] == ' '\n",
    "\n",
    "def full_board_check(theBoard):\n",
    "    for i in range(1,10):\n",
    "        if space_check(theBoard, i):\n",
    "            return False\n",
    "    return True\n",
    "\n",
    "def player_choice(theBoard):\n",
    "    position = 0\n",
    "    while position not in [1,2,3,4,5,6,7,8,9] or not space_check(theBoard, position):\n",
    "        position = int(input('Выберите следующую клетку: '))\n",
    "        \n",
    "    return position\n",
    "\n",
    "def replay():\n",
    "    return input('Вы хотите сыграть снова? Yes или No: ').lower().startswith('Yes')\n",
    "\n",
    "#НАЧАЛО#########################################################################################################################\n",
    "while True:\n",
    "    \n",
    "    theBoard = [' '] * 10\n",
    "    player1_marker, player2_marker = player_input()\n",
    "    turn = choose_first()\n",
    "    print('Первым ходит ' + turn + '.')\n",
    "    \n",
    "    play_game = input('Вы готовы играть? Введите Yes или No.')\n",
    "    \n",
    "    if play_game.lower()[0] == 'y':\n",
    "        game_on = True\n",
    "    else:\n",
    "        game_on = False\n",
    "\n",
    "    while game_on:\n",
    "        if turn == 'Игрок 1':\n",
    "            # Ход Игрока 1\n",
    "            \n",
    "            display_board(theBoard)\n",
    "            position = player_choice(theBoard)\n",
    "            place_marker(theBoard, player1_marker, position)\n",
    "\n",
    "            if win_check(theBoard, player1_marker):\n",
    "                display_board(theBoard)\n",
    "                print('игрок 1 выиграл')\n",
    "                game_on = False\n",
    "            else:\n",
    "                if full_board_check(theBoard):\n",
    "                    display_board(theBoard)\n",
    "                    print('Ничья!')\n",
    "                    break\n",
    "                else:\n",
    "                    turn = 'Игрок 2'\n",
    "\n",
    "        else:\n",
    "            # Ход Игрока 2\n",
    "            \n",
    "            display_board(theBoard)\n",
    "            position = player_choice(theBoard)\n",
    "            place_marker(theBoard, player2_marker, position)\n",
    "\n",
    "            if win_check(theBoard, player2_marker):\n",
    "                display_board(theBoard)\n",
    "                print('Игрок 2 выиграл!')\n",
    "                game_on = False\n",
    "            else:\n",
    "                if full_board_check(theBoard):\n",
    "                    display_board(theBoard)\n",
    "                    print('Ничья!')\n",
    "                    break\n",
    "                else:\n",
    "                    turn = 'Игрок 1'\n",
    "\n",
    "    if not replay():\n",
    "        break"
   ]
  },
  {
   "cell_type": "code",
   "execution_count": null,
   "metadata": {},
   "outputs": [],
   "source": []
  }
 ],
 "metadata": {
  "kernelspec": {
   "display_name": "Python 3",
   "language": "python",
   "name": "python3"
  },
  "language_info": {
   "codemirror_mode": {
    "name": "ipython",
    "version": 3
   },
   "file_extension": ".py",
   "mimetype": "text/x-python",
   "name": "python",
   "nbconvert_exporter": "python",
   "pygments_lexer": "ipython3",
   "version": "3.8.5"
  }
 },
 "nbformat": 4,
 "nbformat_minor": 4
}
